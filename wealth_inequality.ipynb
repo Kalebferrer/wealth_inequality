{
 "cells": [
  {
   "cell_type": "markdown",
   "id": "8deef09b",
   "metadata": {},
   "source": [
    "## US Wealth Inequality\n",
    "Status: a work in progress..\n",
    "\n",
    "Goal: Examine wealth inequality in the United States.\n",
    "\n",
    "Data: [Federal Reserve - Distributional Financial Accounts (DFA)](https://www.federalreserve.gov/releases/z1/dataviz/dfa/) <br>\n",
    "Source: Survey of Consumer and Financial Accounts of the United States\n",
    "\n",
    "- Part 1: Explore the distribution of wealth over time held by various subgroups of the U.S. population\n",
    "\n",
    "Note: Distributions by generation are defined by birth year as follows:\n",
    "- Silent and Earlier=born before 1946\n",
    "- Baby Boomer=born 1946-1964\n",
    "- Gen X=born 1965-1980\n",
    "- Millennial=born 1981 or later."
   ]
  },
  {
   "cell_type": "code",
   "execution_count": 1,
   "id": "346b7914",
   "metadata": {},
   "outputs": [],
   "source": [
    "# import libraries\n",
    "import pandas as pd\n",
    "import matplotlib as plt"
   ]
  },
  {
   "cell_type": "code",
   "execution_count": 13,
   "id": "725f1abd",
   "metadata": {},
   "outputs": [],
   "source": [
    "# load data\n",
    "df = pd.read_csv(\"data/dfa/dfa-networth-shares.csv\")"
   ]
  },
  {
   "cell_type": "code",
   "execution_count": 14,
   "id": "176236fa",
   "metadata": {},
   "outputs": [
    {
     "data": {
      "text/plain": [
       "(715, 15)"
      ]
     },
     "execution_count": 14,
     "metadata": {},
     "output_type": "execute_result"
    }
   ],
   "source": [
    "df.shape"
   ]
  },
  {
   "cell_type": "code",
   "execution_count": 15,
   "id": "af02c635",
   "metadata": {},
   "outputs": [
    {
     "data": {
      "text/plain": [
       "Index(['Date', 'Category', 'Net worth', 'Assets', 'Real estate',\n",
       "       'Consumer durables', 'Corporate equities and mutual fund shares',\n",
       "       'DB pension entitlements', 'DC pension entitlements',\n",
       "       'Private businesses', 'Other assets', 'Liabilities', 'Home mortgages',\n",
       "       'Consumer credit', 'Other liabilities'],\n",
       "      dtype='object')"
      ]
     },
     "execution_count": 15,
     "metadata": {},
     "output_type": "execute_result"
    }
   ],
   "source": [
    "df.columns"
   ]
  },
  {
   "cell_type": "markdown",
   "id": "13c19f2a",
   "metadata": {},
   "source": [
    "### Data Appendix\n"
   ]
  }
 ],
 "metadata": {
  "kernelspec": {
   "display_name": "base",
   "language": "python",
   "name": "python3"
  },
  "language_info": {
   "codemirror_mode": {
    "name": "ipython",
    "version": 3
   },
   "file_extension": ".py",
   "mimetype": "text/x-python",
   "name": "python",
   "nbconvert_exporter": "python",
   "pygments_lexer": "ipython3",
   "version": "3.11.5"
  }
 },
 "nbformat": 4,
 "nbformat_minor": 5
}
